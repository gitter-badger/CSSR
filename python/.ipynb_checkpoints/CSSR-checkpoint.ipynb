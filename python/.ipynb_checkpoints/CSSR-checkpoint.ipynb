{
 "cells": [
  {
   "cell_type": "code",
   "execution_count": 26,
   "metadata": {
    "collapsed": true
   },
   "outputs": [],
   "source": [
    "from scipy import stats"
   ]
  },
  {
   "cell_type": "code",
   "execution_count": 27,
   "metadata": {
    "collapsed": true
   },
   "outputs": [],
   "source": [
    "# Arguments passed into the program\n",
    "\n",
    "obs = X = list(\"ababababababababab\")\n",
    "A = ['a', 'b']\n",
    "Lmax = 5\n",
    "sig = 0.7"
   ]
  },
  {
   "cell_type": "code",
   "execution_count": 28,
   "metadata": {
    "collapsed": false
   },
   "outputs": [],
   "source": [
    "# Utility functions\n",
    "\n",
    "def window(xs, l):\n",
    "    \"\"\" Instead of a parse tree, just yield successive l-sized windows from the x's.\n",
    "        Does not work with a length of 0.\n",
    "    \"\"\"\n",
    "    for i in iter(range(0, len(xs), l)):\n",
    "        yield xs[i:i+l]"
   ]
  },
  {
   "cell_type": "code",
   "execution_count": 29,
   "metadata": {
    "collapsed": false,
    "scrolled": false
   },
   "outputs": [
    {
     "name": "stdout",
     "output_type": "stream",
     "text": [
      "['a']\n",
      "['b']\n",
      "['a']\n",
      "['b']\n",
      "['a']\n",
      "['b']\n",
      "['a']\n",
      "['b']\n",
      "['a']\n",
      "['b']\n",
      "['a']\n",
      "['b']\n",
      "['a']\n",
      "['b']\n",
      "['a']\n",
      "['b']\n",
      "['a']\n",
      "['b']\n",
      "['a', 'b', 'a', 'b', 'a']\n",
      "['b', 'a', 'b', 'a', 'b']\n",
      "['a', 'b', 'a', 'b', 'a']\n",
      "['b', 'a', 'b']\n"
     ]
    }
   ],
   "source": [
    "for w in window(obs, 1): print(w)\n",
    "for w in window(obs, Lmax): print(w)"
   ]
  },
  {
   "cell_type": "code",
   "execution_count": 30,
   "metadata": {
    "collapsed": false
   },
   "outputs": [],
   "source": [
    "# Kolmogorov–Smirnov test ported from CSSR (to be replaced with scipy)\n",
    "\n",
    "def ks_test(dist1, dist2, dist_size):\n",
    "    size1 = len(dist1)\n",
    "    size2 = len(dist2)\n",
    "\n",
    "    temp1arr = [dist1[0]]\n",
    "    temp2arr = [dist2[0]]\n",
    "\n",
    "    # obtain cumulative distributions\n",
    "    for i in range(1, dist_size):\n",
    "        temp1arr[i] = dist1[i] + temp1arr[i-1]\n",
    "        temp2arr[i] = dist2[i] + temp2arr[i-1];\n",
    "\n",
    "    # calculate KS statistic - take max difference between 2 values\n",
    "    def find_largest_diff(max_acc, idx):\n",
    "        max_val = abs(temp1arr[idx] - temp2arr[idx]) # see if this handles floats\n",
    "        return max_val if max_val  > max_acc else max_acc\n",
    "\n",
    "    largest_diff = reduce(find_largest_diff, range(0,dist_size), 0.0)\n",
    "\n",
    "    en = sqrt((size1 * size2) / (size1 + size2))\n",
    "\n",
    "    # calculate significance level\n",
    "    # TODO: note the parens\n",
    "    return prob_ks(((en + 0.12 + 0.11) / en) * largest_diff);\n",
    "\n",
    "def prob_ks(alam):\n",
    "    term\n",
    "    fac = 2.0\n",
    "    acc = 0.0\n",
    "    termbf = 0.0\n",
    "    a2 = -2.0 * alam * alam\n",
    "    EPS1=0.001\n",
    "    EPS2=1.0e-8 \n",
    "    \n",
    "    for j in range(1,100):\n",
    "        term = fac* exp(a2*j*j);\n",
    "        acc += term;\n",
    "        if (abs(term) <= EPS1*termbf) or (abs(term) <= EPS2*acc):\n",
    "            return acc\n",
    "        fac = -fac\n",
    "        termbf = abs(term)\n",
    "\n",
    "    return 1.0\n"
   ]
  },
  {
   "cell_type": "code",
   "execution_count": 35,
   "metadata": {
    "collapsed": false
   },
   "outputs": [],
   "source": [
    "# BROKEN. See below:\n",
    "def calc_current_distribution(state):\n",
    "    \"\"\" calculates the frequency of occurrence of each element given:\n",
    "            state - P(element|state)\n",
    "    \"\"\"\n",
    "    # initialize the occurence count for all strings in state\n",
    "    m_occurenceCount = 0;\n",
    "    m_counts = []\n",
    "\n",
    "    # initialize distribution\n",
    "    m_currentDist = [0 for i in range(0, len(state))]\n",
    "\n",
    "    for stringElem in state:\n",
    "        # BREAKING!!!!!\n",
    "        # THIS ASSUMES THAT EACH STRING IS ACTUALLY A STRUCT WITH SOMETHING LIKE stringElem { val:'a', counts:[Ints] }\n",
    "        for i in range(0, len(state)):\n",
    "            m_occurenceCount +=  stringElem.m_counts[i]\n",
    "            m_currentDist[i] += (stringElem.m_counts[i] + 0.0)\n",
    "\n",
    "    # divide all counts by total number of strings in state\n",
    "    if m_occurenceCount > 0:\n",
    "        for k in range(0, len(state)):\n",
    "            m_currentDist[k] = m_currentDist[k] / (0.0 + m_occurenceCount)\n",
    "\n",
    "    return m_currentDist\n",
    "\n",
    "# double Machine::CalcStringProb(char* string, HashTable2* hashtable)\n",
    "def calc_string_prob(states, string):\n",
    "    totalPerString = 0.0\n",
    "    totalPerState = 0.0\n",
    "    total = 0\n",
    "    currentState\n",
    "    startState\n",
    "    stateArraySize = len(states)\n",
    "\n",
    "    index\n",
    "    frequency\n",
    "    isNullTrans = False\n",
    "    transition\n",
    "    for state in states:\n",
    "        totalPerState = 1\n",
    "        startState = state\n",
    "        frequency = startState.getFrequency() # ???\n",
    "        currentState = startState\n",
    "        isNullTrans = False\n",
    "\n",
    "        j = 0\n",
    "        while (j < len(string) and not isNullTrans):\n",
    "            \"\"\" Quote: checks to see which state string is in; returns a pointer to the state.\n",
    "                @.@ so this is a massive check? iterate through all states, then iterate through strings in each?\n",
    "                # index = hashtable->WhichIndex(symbol);\n",
    "            \"\"\"\n",
    "            idx_of_symbol_in_state = currentState.index(string[j])\n",
    "            # get transition probability from current state\n",
    "            totalPerState = totalPerState * calc_current_distribution(currentState)[idx_of_symbol_in_state]\n",
    "\n",
    "            # make transition\n",
    "            transition_idx = currentState.getTransitions[index]\n",
    "            if (transition_idx == None):\n",
    "                totalPerState = 0.0\n",
    "                isNullTrans = True\n",
    "            else:\n",
    "                currentState = states[transition_idx]\n",
    "            j += 1\n",
    "        totalPerString += frequency * totalPerState\n",
    "    return totalPerString;\n"
   ]
  },
  {
   "cell_type": "code",
   "execution_count": 36,
   "metadata": {
    "collapsed": false
   },
   "outputs": [
    {
     "ename": "SyntaxError",
     "evalue": "invalid syntax (<ipython-input-36-66a1435b0755>, line 36)",
     "output_type": "error",
     "traceback": [
      "\u001b[0;36m  File \u001b[0;32m\"<ipython-input-36-66a1435b0755>\"\u001b[0;36m, line \u001b[0;32m36\u001b[0m\n\u001b[0;31m    calc_string_prob(S, ax) == ???\u001b[0m\n\u001b[0m                               ^\u001b[0m\n\u001b[0;31mSyntaxError\u001b[0m\u001b[0;31m:\u001b[0m invalid syntax\n"
     ]
    }
   ],
   "source": [
    "# Breakdown of helper functions used for testing\n",
    "# TODO: NULL HYPOTHESIS AND TRANSISTION STATES\n",
    "\n",
    "def estimate_added_history(Xt, ax):\n",
    "    return \n",
    "\n",
    "def estimate_next_conditional_distribution(Xt, eqivClass):\n",
    "    \"\"\" \"\"\"\n",
    "    return \"TODO\"\n",
    "\n",
    "def equivalence_class_in_state(s, x_len):\n",
    "    \"\"\" returns subset of s that matches history size \"\"\"\n",
    "    return  [ other_x for other_x in s if len(other_x) != x_len ]\n",
    "\n",
    "def null_hypothesis(S, s, ax):\n",
    "    \"\"\" The null hypothesis is that adding an additional piece of history does not change\n",
    "        the conditional distribution for the next observation.\n",
    "    \"\"\"\n",
    "    \"\"\" Questions for estimating Eq.1: P(Xt |Xt−1t−L= axt−1t−L+1) == P(Xt|ˆS = ˆe(xt−1t−L+1))\n",
    "        given Xt = list(\"aba\")\n",
    "        are we saying:\n",
    "            P(Xt | Xt[1:] == [a]+Xt[2:]) == P(Xt | S = equivalence_class_in_state(s, len(Xt[2:]) ) )\n",
    "        so that we can substitute the left for the right, and then perform the hypothesis test?\n",
    "        i.e.:\n",
    "            let\n",
    "                e(s, Xt[:2]_len) = equivalence_class_in_state(s, len(Xt[2:]) ) # returns subset of s that matches history size\n",
    "            in\n",
    "            P(Xt | S = e(s, Xt[:2]_len) )\n",
    "                == count( e(s, Xt[:2]_len) == Xt[1:] ) / count(  e(s, Xt[:2]_len) )\n",
    "\n",
    "        That seems to be how Eq.1 reads...\n",
    "    \"\"\"\n",
    "    ########\n",
    "    ######## NEED TO FACTOR IN calc_current_distribution:\n",
    "    ######## IS IT NOW:\n",
    "    calc_string_prob(S, ax) == ???\n",
    "    e = equivalence_class_in_state(s)\n",
    "    # return count( e(s, Xt[:2]_len) == Xt[1:] ) / count(  e(s, Xt[:2]_len) )\n",
    "    ## BASICALLY THIS IS THE CRUX OF THE BLOCKER (but it also requires Transition Tables to be figured out.)"
   ]
  },
  {
   "cell_type": "code",
   "execution_count": 37,
   "metadata": {
    "collapsed": true
   },
   "outputs": [],
   "source": [
    "def filter_state(S, s):\n",
    "    \"\"\" Filter the list of all states to get states not equal to the current state for the\n",
    "        alternative hypothesis.\n",
    "        TODO: move from lists to arrays after proof-of-concept.\n",
    "    \"\"\"\n",
    "    return [other_s for other_s in S if other_s != s]\n",
    "\n",
    "def restricted_hypotheses_testing(S, s, ax):\n",
    "    \"\"\" The restricted hypothesis is that we have the right set of conditional distributions,\n",
    "        but have matched them with the wrong histories.\n",
    "    \"\"\"\n",
    "    S_star = filter_state(S, s)\n",
    "    for s_star in iter(S_star):\n",
    "        if nullHypothesis(s_star, ax) < sig:\n",
    "            return s_star\n",
    "\n",
    "    return None"
   ]
  },
  {
   "cell_type": "code",
   "execution_count": null,
   "metadata": {
    "collapsed": true
   },
   "outputs": [],
   "source": [
    "# Test and Move\n",
    "def test(S, p, ax, s, sig):\n",
    "    if nullHypothesis(s, ax) < sig:\n",
    "        if not ax in s:\n",
    "            s.append(ax)              # mutating, replacable if we make use sets for states\n",
    "    else:\n",
    "        s_star = restricted_hypotheses_testing(S, s, ax, sig)\n",
    "        if s_star != None:\n",
    "            move(ax, s, s_star)\n",
    "        else:\n",
    "            s_new = ['']\n",
    "            S.append(s_new)\n",
    "            move(ax, s, s_new)\n",
    "\n",
    "def move(x, s1, s2):\n",
    "    s1 = filter(lambda y: y != x, s1)\n",
    "    # TODO: FIND OUT WHERE THESE ARE GETTING STORED\n",
    "    # re-estimate P(Xt |ˆS = s1) -> we are not storing state in here.\n",
    "    s2.append(x)\n",
    "    # re-estimate P(Xt |ˆS = s2) -> same as above\n"
   ]
  },
  {
   "cell_type": "code",
   "execution_count": 38,
   "metadata": {
    "collapsed": false
   },
   "outputs": [
    {
     "name": "stdout",
     "output_type": "stream",
     "text": [
      "[['a', 'b']]\n"
     ]
    }
   ],
   "source": [
    "# Sanity checks:\n",
    "\n",
    "print(filter_state(list([list(\"ab\"), list(\"bc\")]), list(\"bc\")))"
   ]
  },
  {
   "cell_type": "code",
   "execution_count": 46,
   "metadata": {
    "collapsed": false
   },
   "outputs": [],
   "source": [
    "# Phase I - Initialization\n",
    "S = None\n",
    "def initialization():\n",
    "    global S\n",
    "    S = [['']]\n",
    "    # L = 0         # using a for-loop so that we don't need this"
   ]
  },
  {
   "cell_type": "code",
   "execution_count": 47,
   "metadata": {
    "collapsed": true
   },
   "outputs": [],
   "source": [
    "# Phase III - Sufficiency\n",
    "\n",
    "def sufficiency():\n",
    "    for L in range(1,Lmax): # window cannot be 0\n",
    "        for Xt in window(X, L):\n",
    "            if len(Xt) != L: continue\n",
    "            for s in S:\n",
    "                # estimate P(x|S = s)\n",
    "                for e in s:\n",
    "                    for a in A:\n",
    "                        # Python 2.x: it = iter(Xt); head = it.next(); tail = list(it)\n",
    "                        # Python 3.x only: head, *tail = Xt\n",
    "                        x0, *x_history = Xt\n",
    "                        ax = [a] + x_history # for something immutable, others are faster\n",
    "                        # TODO!!!!!!!!!!!!!!\n",
    "                        p = estimateAddedHistory(Xt, ax) # P(Xt |Xt−1t−L= ax)\n",
    "                        test(S, p, ax, s, sig) #TODO"
   ]
  },
  {
   "cell_type": "code",
   "execution_count": 48,
   "metadata": {
    "collapsed": false
   },
   "outputs": [],
   "source": [
    "# Phase II - Recursion\n",
    "\n",
    "def recursion ():\n",
    "    # Remove transient states from S\n",
    "    recursive = False\n",
    "    while not recursive:\n",
    "        recursive = True\n",
    "        for s in S:\n",
    "            for b in A:\n",
    "                x0 = s[0]\n",
    "                x0b = x0 + [b]\n",
    "                T_sb = equivalenceClass(x0b)   #### TODO: equivalenceClass\n",
    "                for x in s[1:]:\n",
    "                    T_xb = equivalenceClass(x + [b])\n",
    "                    if T_xb != T_sb:\n",
    "                        s_new = ['']\n",
    "                        S.append(s_new)\n",
    "                        T_s_newb = T_xb\n",
    "                        for y in s:\n",
    "                            if equivalenceClass(y + [b]) == T_s_newb:\n",
    "                                move(y, s, s_new)\n",
    "                        recursive = False\n"
   ]
  },
  {
   "cell_type": "code",
   "execution_count": 49,
   "metadata": {
    "collapsed": false
   },
   "outputs": [
    {
     "ename": "NameError",
     "evalue": "name 'estimateAddedHistory' is not defined",
     "output_type": "error",
     "traceback": [
      "\u001b[0;31m---------------------------------------------------------------------------\u001b[0m",
      "\u001b[0;31mNameError\u001b[0m                                 Traceback (most recent call last)",
      "\u001b[0;32m<ipython-input-49-5a8eb5e054c9>\u001b[0m in \u001b[0;36m<module>\u001b[0;34m()\u001b[0m\n\u001b[1;32m      1\u001b[0m \u001b[0minitialization\u001b[0m\u001b[0;34m(\u001b[0m\u001b[0;34m)\u001b[0m\u001b[0;34m\u001b[0m\u001b[0m\n\u001b[0;32m----> 2\u001b[0;31m \u001b[0msufficiency\u001b[0m\u001b[0;34m(\u001b[0m\u001b[0;34m)\u001b[0m\u001b[0;34m\u001b[0m\u001b[0m\n\u001b[0m\u001b[1;32m      3\u001b[0m \u001b[0mrecursion\u001b[0m\u001b[0;34m(\u001b[0m\u001b[0;34m)\u001b[0m\u001b[0;34m\u001b[0m\u001b[0m\n\u001b[1;32m      4\u001b[0m \u001b[0mprint\u001b[0m\u001b[0;34m(\u001b[0m\u001b[0mS\u001b[0m\u001b[0;34m)\u001b[0m\u001b[0;34m\u001b[0m\u001b[0m\n",
      "\u001b[0;32m<ipython-input-47-1e69cd978086>\u001b[0m in \u001b[0;36msufficiency\u001b[0;34m()\u001b[0m\n\u001b[1;32m     14\u001b[0m                         \u001b[0max\u001b[0m \u001b[0;34m=\u001b[0m \u001b[0;34m[\u001b[0m\u001b[0ma\u001b[0m\u001b[0;34m]\u001b[0m \u001b[0;34m+\u001b[0m \u001b[0mx_history\u001b[0m \u001b[0;31m# for something immutable, others are faster\u001b[0m\u001b[0;34m\u001b[0m\u001b[0m\n\u001b[1;32m     15\u001b[0m                         \u001b[0;31m# TODO!!!!!!!!!!!!!!\u001b[0m\u001b[0;34m\u001b[0m\u001b[0;34m\u001b[0m\u001b[0m\n\u001b[0;32m---> 16\u001b[0;31m                         \u001b[0mp\u001b[0m \u001b[0;34m=\u001b[0m \u001b[0mestimateAddedHistory\u001b[0m\u001b[0;34m(\u001b[0m\u001b[0mXt\u001b[0m\u001b[0;34m,\u001b[0m \u001b[0max\u001b[0m\u001b[0;34m)\u001b[0m \u001b[0;31m# P(Xt |Xt−1t−L= ax)\u001b[0m\u001b[0;34m\u001b[0m\u001b[0m\n\u001b[0m\u001b[1;32m     17\u001b[0m                         \u001b[0mtest\u001b[0m\u001b[0;34m(\u001b[0m\u001b[0mS\u001b[0m\u001b[0;34m,\u001b[0m \u001b[0mp\u001b[0m\u001b[0;34m,\u001b[0m \u001b[0max\u001b[0m\u001b[0;34m,\u001b[0m \u001b[0ms\u001b[0m\u001b[0;34m,\u001b[0m \u001b[0msig\u001b[0m\u001b[0;34m)\u001b[0m \u001b[0;31m#TODO\u001b[0m\u001b[0;34m\u001b[0m\u001b[0m\n",
      "\u001b[0;31mNameError\u001b[0m: name 'estimateAddedHistory' is not defined"
     ]
    }
   ],
   "source": [
    "initialization()\n",
    "sufficiency()\n",
    "recursion()\n",
    "print(S)"
   ]
  },
  {
   "cell_type": "code",
   "execution_count": null,
   "metadata": {
    "collapsed": true
   },
   "outputs": [],
   "source": []
  }
 ],
 "metadata": {
  "kernelspec": {
   "display_name": "Python 3",
   "language": "python",
   "name": "python3"
  },
  "language_info": {
   "codemirror_mode": {
    "name": "ipython",
    "version": 3
   },
   "file_extension": ".py",
   "mimetype": "text/x-python",
   "name": "python",
   "nbconvert_exporter": "python",
   "pygments_lexer": "ipython3",
   "version": "3.5.0"
  }
 },
 "nbformat": 4,
 "nbformat_minor": 0
}
